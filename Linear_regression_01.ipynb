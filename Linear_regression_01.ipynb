{
  "nbformat": 4,
  "nbformat_minor": 0,
  "metadata": {
    "colab": {
      "provenance": [],
      "authorship_tag": "ABX9TyPAkx3eFR79Sd/cl4WRhLth",
      "include_colab_link": true
    },
    "kernelspec": {
      "name": "python3",
      "display_name": "Python 3"
    },
    "language_info": {
      "name": "python"
    }
  },
  "cells": [
    {
      "cell_type": "markdown",
      "metadata": {
        "id": "view-in-github",
        "colab_type": "text"
      },
      "source": [
        "<a href=\"https://colab.research.google.com/github/uk-2149/uk_ml_prjcts/blob/main/Linear_regression_01.ipynb\" target=\"_parent\"><img src=\"https://colab.research.google.com/assets/colab-badge.svg\" alt=\"Open In Colab\"/></a>"
      ]
    },
    {
      "cell_type": "code",
      "execution_count": null,
      "metadata": {
        "id": "2wxVvYtNfjFc"
      },
      "outputs": [],
      "source": [
        "import numpy as np\n",
        "import math, copy\n",
        "import matplotlib.pyplot as plt"
      ]
    },
    {
      "cell_type": "code",
      "source": [
        "x_train = np.array([1.0, 1.5, 2.0, 2.75, 3.0])\n",
        "y_train = np.array([300.0, 360.0, 500.0, 540.0, 650.0,])\n",
        "m = x_train.shape[0]\n",
        "\n",
        "w = 100\n",
        "b = 100"
      ],
      "metadata": {
        "id": "687WlF29X6HI"
      },
      "execution_count": null,
      "outputs": []
    },
    {
      "cell_type": "code",
      "source": [
        "def compute_model_output(x, w, b):\n",
        "  m = x.shape[0]\n",
        "  y_hat = np.zeros(m)\n",
        "  for i in range(m):\n",
        "    y_hat[i] = w*x[i] + b\n",
        "  return y_hat"
      ],
      "metadata": {
        "id": "BW2GbFF7YU0r"
      },
      "execution_count": null,
      "outputs": []
    },
    {
      "cell_type": "code",
      "source": [
        "def compute_cost(x, y, w, b):\n",
        "  m = x.shape[0]\n",
        "  cost_sum = 0\n",
        "  for i in range(m):\n",
        "    y_hat = w*x[i] + b\n",
        "    cost = (y_hat - y[i])**2\n",
        "    cost_sum += cost\n",
        "  total_cost = cost_sum / (2*m)\n",
        "  return total_cost"
      ],
      "metadata": {
        "id": "IhEOX7slYYtv"
      },
      "execution_count": null,
      "outputs": []
    },
    {
      "cell_type": "code",
      "source": [
        "a = compute_cost(x_train, y_train, w, b)\n",
        "print(a)"
      ],
      "metadata": {
        "id": "djHOWztZYceW",
        "colab": {
          "base_uri": "https://localhost:8080/"
        },
        "outputId": "7a49e244-0dcd-4633-c5d9-29ffc0bf16df"
      },
      "execution_count": null,
      "outputs": [
        {
          "output_type": "stream",
          "name": "stdout",
          "text": [
            "15182.5\n"
          ]
        }
      ]
    },
    {
      "cell_type": "code",
      "source": [
        "def compute_gradient(x, y, w, b):\n",
        "  m = x.shape[0]\n",
        "  dj_dw = 0\n",
        "  dj_db = 0\n",
        "  for i in range(m):\n",
        "    y_hat = w*x[i] + b\n",
        "    dj_dw_i = (y_hat - y[i])*x[i]\n",
        "    dj_db_i = (y_hat - y[i])\n",
        "    dj_dw += dj_dw_i\n",
        "    dj_db += dj_db_i\n",
        "  dj_dw = dj_dw / m\n",
        "  dj_db = dj_db / m\n",
        "  return dj_dw, dj_db"
      ],
      "metadata": {
        "id": "exQ849wKYiKr"
      },
      "execution_count": null,
      "outputs": []
    },
    {
      "cell_type": "code",
      "source": [
        "def gradient_descent(x, y, w_in, b_in, alpha, num_iters, cost_function, gradient_function):\n",
        "  # x = input data\n",
        "  # y = target values\n",
        "  # w_in and b_in = initial values of w and b\n",
        "  # alpha = learning rate\n",
        "  # num_iters = number of iterations to run gradient descent\n",
        "  # cost_function = function to compute cost\n",
        "  # gradient_function = function to compute gradient\n",
        "\n",
        "  J_history = [] # history of cost values\n",
        "  p_history = [] # history of parameters w and b\n",
        "  w = w_in\n",
        "  b = b_in\n",
        "\n",
        "  for i in range(num_iters):\n",
        "    dj_dw, dj_db = gradient_function(x, y, w, b)\n",
        "    w = w - (alpha * dj_dw)\n",
        "    b = b - (alpha * dj_db)\n",
        "\n",
        "    # Save cost J at each iteration\n",
        "    if (i < 100000): # to prevent resource exhaustion\n",
        "      J_history.append(cost_function(x, y, w, b))\n",
        "      p_history.append([w,b])\n",
        "    # Print cost at every 10 intervals and at every interval if i<10\n",
        "    if (i % math.ceil(num_iters/10) == 0):\n",
        "            print(f\"Iteration {i:4}: Cost {J_history[-1]:0.2e} \",\n",
        "                  f\"dj_dw: {dj_dw: 0.3e}, dj_db: {dj_db: 0.3e}  \",\n",
        "                  f\"w: {w: 0.3e}, b:{b: 0.5e}\")\n",
        "  return w, b, J_history, p_history"
      ],
      "metadata": {
        "id": "gFyiA0HgYmpz"
      },
      "execution_count": null,
      "outputs": []
    },
    {
      "cell_type": "code",
      "source": [
        "iterations = 10000\n",
        "tmp_alpha = 0.01\n",
        "w_final, b_final, J_hist, p_hist = gradient_descent(x_train ,y_train, w, b, tmp_alpha, iterations, compute_cost, compute_gradient)\n",
        "print(f\"(w,b) found by gradient descent: ({w_final:8.4f},{b_final:8.4f})\")"
      ],
      "metadata": {
        "colab": {
          "base_uri": "https://localhost:8080/"
        },
        "id": "4QfwqCYTv-Tt",
        "outputId": "137d8d5a-90ac-4391-98c8-90e0b98140d3"
      },
      "execution_count": null,
      "outputs": [
        {
          "output_type": "stream",
          "name": "stdout",
          "text": [
            "Iteration    0: Cost 1.36e+04  dj_dw: -3.738e+02, dj_db: -1.650e+02   w:  1.037e+02, b: 1.01650e+02\n",
            "Iteration 1000: Cost 4.45e+02  dj_dw:  9.724e-02, dj_db: -2.212e-01   w:  1.644e+02, b: 1.32810e+02\n",
            "Iteration 2000: Cost 4.45e+02  dj_dw:  3.616e-02, dj_db: -8.226e-02   w:  1.638e+02, b: 1.34214e+02\n",
            "Iteration 3000: Cost 4.45e+02  dj_dw:  1.345e-02, dj_db: -3.059e-02   w:  1.635e+02, b: 1.34736e+02\n",
            "Iteration 4000: Cost 4.45e+02  dj_dw:  5.000e-03, dj_db: -1.137e-02   w:  1.634e+02, b: 1.34930e+02\n",
            "Iteration 5000: Cost 4.45e+02  dj_dw:  1.859e-03, dj_db: -4.229e-03   w:  1.634e+02, b: 1.35002e+02\n",
            "Iteration 6000: Cost 4.45e+02  dj_dw:  6.913e-04, dj_db: -1.573e-03   w:  1.634e+02, b: 1.35029e+02\n",
            "Iteration 7000: Cost 4.45e+02  dj_dw:  2.571e-04, dj_db: -5.848e-04   w:  1.634e+02, b: 1.35039e+02\n",
            "Iteration 8000: Cost 4.45e+02  dj_dw:  9.559e-05, dj_db: -2.175e-04   w:  1.634e+02, b: 1.35042e+02\n",
            "Iteration 9000: Cost 4.45e+02  dj_dw:  3.555e-05, dj_db: -8.087e-05   w:  1.634e+02, b: 1.35044e+02\n",
            "(w,b) found by gradient descent: (163.3930,135.0443)\n"
          ]
        }
      ]
    },
    {
      "cell_type": "code",
      "source": [
        "temp_y_hat = compute_model_output(x_train, w_final, b_final)\n",
        "\n",
        "plt.plot(x_train, temp_y_hat, c='b', label=\"our predictions\")\n",
        "plt.scatter(x_train, y_train, marker='x', c='r')\n",
        "plt.title(\"Housing prices\")\n",
        "plt.ylabel(\"Price (in 1000s of dollars)\")\n",
        "plt.xlabel(\"Size (in 1000 sqft.)\")\n",
        "plt.show()"
      ],
      "metadata": {
        "colab": {
          "base_uri": "https://localhost:8080/",
          "height": 472
        },
        "id": "JD-e3XTpwOvY",
        "outputId": "265aab56-ed48-4f17-84a4-0d3824772c39"
      },
      "execution_count": null,
      "outputs": [
        {
          "output_type": "display_data",
          "data": {
            "text/plain": [
              "<Figure size 640x480 with 1 Axes>"
            ],
            "image/png": "[encoded data removed]"
          },
          "metadata": {}
        }
      ]
    },
    {
      "cell_type": "code",
      "source": [
        "x_test = np.array([2.75])\n",
        "y_hat_test = compute_model_output(x_test, w_final, b_final)\n",
        "print(f\"The predicted price for a house of size {x_test[0]*1000} sqft. is ${round(y_hat_test[0]*1000,2)}\")"
      ],
      "metadata": {
        "colab": {
          "base_uri": "https://localhost:8080/"
        },
        "id": "NTW9SyaqwSTo",
        "outputId": "6c4671a4-a9ac-44b9-f19f-5e59ded3d030"
      },
      "execution_count": null,
      "outputs": [
        {
          "output_type": "stream",
          "name": "stdout",
          "text": [
            "The predicted price for a house of size 2750.0 sqft. is $584375.06\n"
          ]
        }
      ]
    }
  ]
}